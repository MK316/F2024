{
  "nbformat": 4,
  "nbformat_minor": 0,
  "metadata": {
    "colab": {
      "private_outputs": true,
      "provenance": [],
      "authorship_tag": "ABX9TyMKZP6kAd1p9sHXn9Qxhv44",
      "include_colab_link": true
    },
    "kernelspec": {
      "name": "python3",
      "display_name": "Python 3"
    },
    "language_info": {
      "name": "python"
    }
  },
  "cells": [
    {
      "cell_type": "markdown",
      "metadata": {
        "id": "view-in-github",
        "colab_type": "text"
      },
      "source": [
        "<a href=\"https://colab.research.google.com/github/MK316/F2024/blob/main/Multimedia/PronounceYourName.ipynb\" target=\"_parent\"><img src=\"https://colab.research.google.com/assets/colab-badge.svg\" alt=\"Open In Colab\"/></a>"
      ]
    },
    {
      "cell_type": "markdown",
      "source": [
        "#  ❄️  Pronounce your name\n",
        "\n",
        "+ [Engpro roster](https://docs.google.com/spreadsheets/d/1YHP5Devdyopz4DGBIqhS_rk3R0gIHrSHeLvLUtHiD6o/edit?usp=sharing)\n",
        "+ [Multimedai]()\n",
        "\n"
      ],
      "metadata": {
        "id": "TYd2FGx6TWW6"
      }
    },
    {
      "cell_type": "code",
      "source": [
        "!pip install gTTS pydub"
      ],
      "metadata": {
        "id": "xPUMaVQMVJBA"
      },
      "execution_count": null,
      "outputs": []
    },
    {
      "cell_type": "markdown",
      "source": [
        "## [1] Paste the name list\n",
        "```\n",
        "Miran Kim\n",
        "Mary Johnson\n",
        "Hongseo Choe\n",
        "```\n"
      ],
      "metadata": {
        "id": "Wp820S0xTiwj"
      }
    },
    {
      "cell_type": "markdown",
      "source": [
        "Repaste the above here below:"
      ],
      "metadata": {
        "id": "4hMfL2qUbXRJ"
      }
    },
    {
      "cell_type": "code",
      "source": [
        "names = \"\"\"Hyesu Han\n",
        "Yunju Jo\n",
        "Jeonghyeon Heo\n",
        "Miseung Kim\n",
        "Minchae Kwon\n",
        "Jiwon Heo\"\"\""
      ],
      "metadata": {
        "id": "7KO-yR5LT59F"
      },
      "execution_count": null,
      "outputs": []
    },
    {
      "cell_type": "markdown",
      "source": [
        "## [2] Convert the list to dataframe (e.g., csv file)\n",
        "\n",
        "Note: the file is saved as 'roster.csv'"
      ],
      "metadata": {
        "id": "1ef6oyCSUci_"
      }
    },
    {
      "cell_type": "code",
      "execution_count": null,
      "metadata": {
        "cellView": "form",
        "id": "R8Bcsdx3TSrj"
      },
      "outputs": [],
      "source": [
        "#@markdown Write the list as dataframe (csv)\n",
        "# Import pandas\n",
        "import pandas as pd\n",
        "\n",
        "# Your multiline text\n",
        "text = names\n",
        "\n",
        "# Split the text by newline\n",
        "names_list = text.split('\\n')\n",
        "sid = list(range(1, len(names_list) + 1))\n",
        "# Create a DataFrame\n",
        "names_df = pd.DataFrame(names_list, columns=['Names'])\n",
        "names_df['SID'] = sid\n",
        "names_df = names_df[['SID', 'Names']]\n",
        "names_df.to_csv(\"roster.csv\", encoding=\"utf-8\", index=False)\n",
        "\n",
        "# Display the DataFrame\n",
        "pd.read_csv(\"roster.csv\")\n"
      ]
    },
    {
      "cell_type": "markdown",
      "source": [
        "## [3] Generate audio (American accent)\n",
        "\n",
        "Example) Number 1. Mary Johnson (1 sec.) Number 2. ..."
      ],
      "metadata": {
        "id": "ZeAz4HeoVSCv"
      }
    },
    {
      "cell_type": "code",
      "source": [
        "#@markdown Audio generated\n",
        "\n",
        "from gtts import gTTS\n",
        "from pydub import AudioSegment\n",
        "import pandas as pd\n",
        "from IPython.display import Audio, display\n",
        "\n",
        "# Load the DataFrame from a CSV file\n",
        "names_df = pd.read_csv(\"roster.csv\", encoding=\"utf-8\")\n",
        "\n",
        "# Placeholder for all audio segments\n",
        "combined = AudioSegment.empty()\n",
        "\n",
        "# Define 1 second of silence\n",
        "silence = AudioSegment.silent(duration=1000)  # Duration in milliseconds\n",
        "\n",
        "# Iterate over the DataFrame using enumerate to get both index and name\n",
        "for i, name in enumerate(names_df['Names']):\n",
        "    if str(name).strip():  # Convert name to string and check if it's not just whitespace\n",
        "        # Generate audio for the name with a prefix \"Number X.\"\n",
        "        mytext = f\"Number {i+1}. {name}\"\n",
        "        tts = gTTS(text=mytext, lang='en', tld=\"us\")\n",
        "        # Save the audio to a temporary file\n",
        "        tts.save('temp.mp3')\n",
        "        # Load this temporary file as an AudioSegment\n",
        "        name_audio = AudioSegment.from_mp3('temp.mp3')\n",
        "        # Add the name audio and then a second of silence to the combined audio\n",
        "        combined += name_audio + silence\n",
        "\n",
        "# Remove the last bit of silence\n",
        "combined = combined[:-1000]\n",
        "\n",
        "# Export the combined audio to a file\n",
        "combined.export(\"combined_names.mp3\", format=\"mp3\")\n",
        "\n",
        "# Display the audio file\n",
        "Audio(\"combined_names.mp3\")\n"
      ],
      "metadata": {
        "cellView": "form",
        "id": "t-CsUcaNVUnY"
      },
      "execution_count": null,
      "outputs": []
    },
    {
      "cell_type": "markdown",
      "source": [
        "## [4] Generate audio (British accent)\n",
        "\n",
        "Example) Number 1. Mary Johnson"
      ],
      "metadata": {
        "id": "d01FsymcZscG"
      }
    },
    {
      "cell_type": "code",
      "source": [
        "#@markdown Audio generated\n",
        "\n",
        "from gtts import gTTS\n",
        "from pydub import AudioSegment\n",
        "import pandas as pd\n",
        "from IPython.display import Audio, display\n",
        "\n",
        "# Load the DataFrame from a CSV file\n",
        "names_df = pd.read_csv(\"roster.csv\", encoding=\"utf-8\")\n",
        "\n",
        "# Placeholder for all audio segments\n",
        "combined = AudioSegment.empty()\n",
        "\n",
        "# Define 1 second of silence\n",
        "silence = AudioSegment.silent(duration=1000)  # Duration in milliseconds\n",
        "\n",
        "# Iterate over the DataFrame using enumerate to get both index and name\n",
        "for i, name in enumerate(names_df['Names']):\n",
        "    if str(name).strip():  # Convert name to string and check if it's not just whitespace\n",
        "        # Generate audio for the name with a prefix \"Number X.\"\n",
        "        mytext = f\"Number {i+1}. {name}\"\n",
        "        tts = gTTS(text=mytext, lang='en', tld=\"co.uk\")\n",
        "        # Save the audio to a temporary file\n",
        "        tts.save('temp.mp3')\n",
        "        # Load this temporary file as an AudioSegment\n",
        "        name_audio = AudioSegment.from_mp3('temp.mp3')\n",
        "        # Add the name audio and then a second of silence to the combined audio\n",
        "        combined += name_audio + silence\n",
        "\n",
        "# Remove the last bit of silence\n",
        "combined = combined[:-1000]\n",
        "\n",
        "# Export the combined audio to a file\n",
        "combined.export(\"combined_names.mp3\", format=\"mp3\")\n",
        "\n",
        "# Display the audio file\n",
        "Audio(\"combined_names.mp3\")\n"
      ],
      "metadata": {
        "cellView": "form",
        "id": "TNB_SPqOZyrm"
      },
      "execution_count": null,
      "outputs": []
    },
    {
      "cell_type": "markdown",
      "source": [
        "---\n",
        "The End"
      ],
      "metadata": {
        "id": "xDUIgTEJORpB"
      }
    }
  ]
}