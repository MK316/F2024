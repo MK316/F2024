{
  "nbformat": 4,
  "nbformat_minor": 0,
  "metadata": {
    "colab": {
      "private_outputs": true,
      "provenance": [],
      "authorship_tag": "ABX9TyPxQJ6KdiWAERtCE09r36zb",
      "include_colab_link": true
    },
    "kernelspec": {
      "name": "python3",
      "display_name": "Python 3"
    },
    "language_info": {
      "name": "python"
    }
  },
  "cells": [
    {
      "cell_type": "markdown",
      "metadata": {
        "id": "view-in-github",
        "colab_type": "text"
      },
      "source": [
        "<a href=\"https://colab.research.google.com/github/MK316/F2024/blob/main/Multimedia/lesson4_datatypes.ipynb\" target=\"_parent\"><img src=\"https://colab.research.google.com/assets/colab-badge.svg\" alt=\"Open In Colab\"/></a>"
      ]
    },
    {
      "cell_type": "markdown",
      "source": [
        "# 📗 **Lesson 04** Data types\n",
        "# Data types:\n",
        "\n",
        "* **Number:** integers, floating numbers\n",
        "* **String:** character strings\n",
        "* **List:** multiple elements\n",
        "* **Dictionary:** paired values (e.g., {'book': 'noun'}\n",
        "* Tuple: paired values not modifiable (e.g., months = (\"January\",\"February\",...))\n"
      ],
      "metadata": {
        "id": "p5S4pHtw2HI6"
      }
    },
    {
      "cell_type": "markdown",
      "source": [
        "# 💦 Application: Current time in a city (preview)"
      ],
      "metadata": {
        "id": "3ADaJZQJ5MuH"
      }
    },
    {
      "cell_type": "markdown",
      "source": [
        "## **[1] Lesson objectives: (Scenario)**\n",
        "\n",
        "1. Students will be able to understand and use vocabulary related to time (e.g. hour, minute, second, a.m./p.m., morning, afternoon, etc.).\n",
        "2. Students will be able to ask and answer questions about the time using basic time expressions (e.g. \"What time is it?\", \"It's [time] in [location]\")."
      ],
      "metadata": {
        "id": "uPeYJVZQ59Cv"
      }
    },
    {
      "cell_type": "markdown",
      "source": [
        "Let's watch a short video!"
      ],
      "metadata": {
        "id": "VT8NHJZM-TjO"
      }
    },
    {
      "cell_type": "code",
      "source": [
        "#@markdown **Title: Why do we have different time zone?** Video (1m 19s)\n",
        "from IPython.display import YouTubeVideo, display\n",
        "video = YouTubeVideo(\"AgINA9_IFiI\", width=600)\n",
        "display(video)"
      ],
      "metadata": {
        "cellView": "form",
        "id": "r4bGc9Zc-Suu"
      },
      "execution_count": null,
      "outputs": []
    },
    {
      "cell_type": "code",
      "source": [
        "#@markdown 💠 Map of the world time zone (#1~2)\n",
        "#@markdown Introduction Slides\n",
        "from IPython.display import display\n",
        "import ipywidgets as widgets\n",
        "import requests\n",
        "\n",
        "def on_button_click(button):\n",
        "    sn = int(button.description) - 1\n",
        "    image.value = requests.get(urls[sn]).content\n",
        "\n",
        "# This (URL) is a list (data type) having multiple items inside the brackets.\n",
        "urls = ['https://github.com/MK316/Spring2023/raw/main/DL/data/worldmappng.png',\n",
        "        'https://github.com/MK316/Spring2023/raw/main/DL/data/worldtimezone.png']\n",
        "\n",
        "button_layout = widgets.Layout(width='50px', height='30px')\n",
        "\n",
        "buttons = [widgets.Button(description=str(i), layout=button_layout) for i in range(1, 3)]\n",
        "for button in buttons:\n",
        "    button.on_click(on_button_click)\n",
        "\n",
        "image = widgets.Image(value=requests.get(urls[0]).content, width=\"800\", height=\"600\")\n",
        "\n",
        "display(widgets.HBox([image, widgets.VBox(buttons)]))\n"
      ],
      "metadata": {
        "cellView": "form",
        "id": "NbPqRcZ_5O9H"
      },
      "execution_count": null,
      "outputs": []
    },
    {
      "cell_type": "markdown",
      "source": [
        "## **[2] Activity example**\n",
        "### **_Q: Current time in Seoul is 5 pm. What time is it in London now?_**\n",
        "\n",
        "Note: We will use [pytz timezone list](https://gist.github.com/heyalexej/8bf688fd67d7199be4a1682b3eec7568), and [gTTS language options](https://gtts.readthedocs.io/en/latest/module.html)"
      ],
      "metadata": {
        "id": "m4CykqtlCm2E"
      }
    },
    {
      "cell_type": "markdown",
      "source": [
        "### A. Using image files"
      ],
      "metadata": {
        "id": "p-QT-V5rgmbJ"
      }
    },
    {
      "cell_type": "code",
      "source": [
        "#\n",
        "\n",
        "#@markdown 💠 Activity intro using images (#1~2)\n",
        "#@markdown Introduction Slides\n",
        "from IPython.display import display\n",
        "import ipywidgets as widgets\n",
        "import requests\n",
        "\n",
        "def on_button_click(button):\n",
        "    sn = int(button.description) - 1\n",
        "    image.value = requests.get(urls[sn]).content\n",
        "\n",
        "# This (URL) is a list (data type) having multiple items inside the brackets.\n",
        "urls = ['https://github.com/MK316/F2024/raw/main/Multimedia/images/timeasking.png',\n",
        "        'https://github.com/MK316/F2024/raw/main/Multimedia/images/conversation.jpg']\n",
        "\n",
        "button_layout = widgets.Layout(width='50px', height='30px')\n",
        "\n",
        "buttons = [widgets.Button(description=str(i), layout=button_layout) for i in range(1, 3)]\n",
        "for button in buttons:\n",
        "    button.on_click(on_button_click)\n",
        "\n",
        "image = widgets.Image(value=requests.get(urls[0]).content, width=\"800\", height=\"600\")\n",
        "\n",
        "display(widgets.HBox([image, widgets.VBox(buttons)]))\n"
      ],
      "metadata": {
        "cellView": "form",
        "id": "-eW0g8g8eaNT"
      },
      "execution_count": null,
      "outputs": []
    },
    {
      "cell_type": "markdown",
      "source": [
        "### B. Using sounds"
      ],
      "metadata": {
        "id": "JR2pJHaLgqLH"
      }
    },
    {
      "cell_type": "code",
      "source": [
        "#@markdown 📌 Install packages (gtts for audio generation)\n",
        "%%capture\n",
        "!pip install gtts\n",
        "from gtts import gTTS"
      ],
      "metadata": {
        "cellView": "form",
        "id": "XzrqYy4DEgxO"
      },
      "execution_count": null,
      "outputs": []
    },
    {
      "cell_type": "markdown",
      "source": [
        "### Instruction:\n",
        "+ Run the first code and copy the text obtained from it.\n",
        "+ Then run the second code.\n",
        "+ The second code reads it out in English and asks for the time in a different city."
      ],
      "metadata": {
        "id": "HibYyjsS1sAw"
      }
    },
    {
      "cell_type": "code",
      "source": [
        "from datetime import datetime\n",
        "import pytz\n",
        "\n",
        "#@markdown **🌲 Step [1] Location to choose:**\n",
        "# Get the timezone object for New York\n",
        "\n",
        "location = 'Asia/Dubai' #@param = ['Asia/Seoul','Asia/Shanghai','Asia/Dubai','Australia/Sydney','America/New_York', 'Canada/Montreal','Europe/London', 'Europe/Barcelona','Africa/Cairo']\n",
        "loc = location.split(\"/\")\n",
        "locq = loc[1]\n",
        "\n",
        "tz_loc = pytz.timezone(location)\n",
        "datetime = datetime.now(tz_loc)\n",
        "current_time1 = datetime.strftime(\"%H:%M\")\n",
        "current_time2 = datetime.strftime(\"%I:%M %p\")\n",
        "\n",
        "# Get the current time in New York\n",
        "print(\"Current Time in %s is\"%locq, current_time2)"
      ],
      "metadata": {
        "cellView": "form",
        "id": "N5rVEfZAP9k7"
      },
      "execution_count": null,
      "outputs": []
    },
    {
      "cell_type": "code",
      "source": [
        "#@markdown **🌲 Step [2] Language to choose:**\n",
        "# language and dialect selection\n",
        "language_select = \"en/us/English(US)\" #@param = [\"en/us/English(US)\",\"en/co.uk/English(UK)\",\"en/com.au/English(Australia)\",\"en/ca/English(Canada)\",\"en/co.in/English(India)\",\"en/ie/English(Ireland)\",\"fr/fr/French\",\"es/es/Spanish(Spain)/\",\"ko/ko/Korean\",\"zh-CN/any/Chinese(Main Land)\"]\n",
        "langsel = language_select.split(\"/\")\n",
        "lg = langsel[0]\n",
        "dialect = langsel[1]\n",
        "\n",
        "# # text input\n",
        "txt = input(\"Type texts to say: \")\n",
        "\n",
        "import random\n",
        "citylist = [\"London\",\"Paris\",\"New York\",\"Dubai\",\"Jinju\",\"Barcelona\",\"Shanghai\",\"Montreal\",\"Sydney\"]\n",
        "city = random.choice(citylist)\n",
        "txtnew = txt.replace(\"_\",\" \")\n",
        "mytext = txtnew + \"...\" + \"What time is it in %s now?\"%city\n",
        "# function\n",
        "if lg == \"ko\":\n",
        "  tts = gTTS(mytext, lang = lg, slow = False)\n",
        "elif lg == \"zh-CN\":\n",
        "  tts = gTTS(mytext, lang = lg, slow = False)\n",
        "else:\n",
        "  tts = gTTS(mytext, lang = lg, tld = dialect, slow = False)\n",
        "\n",
        "tts.save('myaudio.mp3')\n",
        "\n",
        "# Save as a file for reading\n",
        "\n",
        "# Play audio\n",
        "from IPython.display import Audio, display\n",
        "Audio('myaudio.mp3', autoplay=True)"
      ],
      "metadata": {
        "cellView": "form",
        "id": "aq7aCYfgHAnc"
      },
      "execution_count": null,
      "outputs": []
    },
    {
      "cell_type": "markdown",
      "source": [
        "### Sample app on streamlit [goto the app](https://askingtime.streamlit.app/)"
      ],
      "metadata": {
        "id": "oKNnAw2C0GmY"
      }
    },
    {
      "cell_type": "markdown",
      "source": [
        "# **3.5 Date type practice**\n",
        "\n",
        "* **Number:** integers, floating numbers\n",
        "* **String:** character strings\n",
        "* **List:** multiple elements\n",
        "* **Dictionary:** paired values (e.g., {'book': 'noun'}\n",
        "* **Tuple:** paired values not modifiable (e.g., months = (\"January\",\"February\",...))\n"
      ],
      "metadata": {
        "id": "r7oU8AwmhFQF"
      }
    },
    {
      "cell_type": "markdown",
      "source": [
        "\n",
        "|Data type|Format|Example|\n",
        "|:--:|:--:|:--:|\n",
        "|number|int, float|2, 2.0|\n",
        "|string|charcter|'my way', '2'|\n",
        "|list|[element1, element2, ...]|[1,2,4], ['Mary','Tom','Jane'|\n",
        "|dictionary|{key: value}|{'English': 80, 'Korean':90}|\n",
        "|tuple|(element1, element2, ...)|('zero', 0), (\"Mon\",\"Tue\",\"Wed\",...)\n",
        "\n",
        "Note: integer (정수), floating (실수)\n"
      ],
      "metadata": {
        "id": "ZVFb5JmJrPXu"
      }
    },
    {
      "cell_type": "markdown",
      "source": [
        "## [1] Numbers"
      ],
      "metadata": {
        "id": "6ssqRcktm8qP"
      }
    },
    {
      "cell_type": "code",
      "source": [
        "a1 = 3        #integer\n",
        "a2 = 3.0      #float\n",
        "a3 = \"3\"      #string\n",
        "\n",
        "print(type(a1)) #print(), type()\n",
        "print(type(a2))\n",
        "print(type(a3))"
      ],
      "metadata": {
        "id": "g-kvldqENA1e"
      },
      "execution_count": null,
      "outputs": []
    },
    {
      "cell_type": "code",
      "source": [
        "age = 25       # age: integer\n",
        "print(age+3)   # age + 3: integer + integer"
      ],
      "metadata": {
        "id": "Le8Td8LG-5J3"
      },
      "execution_count": null,
      "outputs": []
    },
    {
      "cell_type": "code",
      "source": [
        "spelling_1 = \"Hello, \"  # string\n",
        "spelling_2 = \"there!\"   # string\n",
        "spelling_1 + spelling_2  # string + string"
      ],
      "metadata": {
        "id": "QWcA3NZo_J8B"
      },
      "execution_count": null,
      "outputs": []
    },
    {
      "cell_type": "code",
      "source": [
        "spelling_1 + spelling_2\n",
        "print(spelling_1 + spelling_2)"
      ],
      "metadata": {
        "id": "kBchbpIWLEq9"
      },
      "execution_count": null,
      "outputs": []
    },
    {
      "cell_type": "code",
      "source": [
        "print(spelling_1 + spelling_2)\n",
        "spelling_1 + spelling_2"
      ],
      "metadata": {
        "id": "mHc6mAl0NGjX"
      },
      "execution_count": null,
      "outputs": []
    },
    {
      "cell_type": "markdown",
      "source": [
        "Why error below?"
      ],
      "metadata": {
        "id": "Rv94gthT9p5m"
      }
    },
    {
      "cell_type": "code",
      "source": [
        "# This code will yield an error due to the data type.\n",
        "age = input()\n",
        "print(age + 3)"
      ],
      "metadata": {
        "id": "K188f_nq9lvx"
      },
      "execution_count": null,
      "outputs": []
    },
    {
      "cell_type": "markdown",
      "source": [
        "To fix the error"
      ],
      "metadata": {
        "id": "Tmqmo6M0QhPH"
      }
    },
    {
      "cell_type": "code",
      "source": [
        "age = input()\n",
        "age = int(age)\n",
        "print(age + 3)"
      ],
      "metadata": {
        "id": "NeNPMX1IQguv"
      },
      "execution_count": null,
      "outputs": []
    },
    {
      "cell_type": "code",
      "source": [
        "#@markdown Short conversation (example) using input(), print(); myage is 3 years older than you.\n",
        "age = input(\"A: How old are you? (e.g., 26)\")\n",
        "myage = int(age) + 3\n",
        "print(f\"B: Oh, you're {age}! I'm {myage}. Where is your hometown?\")\n",
        "\n",
        "hometown = input(\"A: \")\n",
        "print(f\"B: Wow, what a coincidence! I'm from {hometown} too. Nice to meet you.\")\n",
        "print(\"A: You too.\")"
      ],
      "metadata": {
        "cellView": "form",
        "id": "QimpcDK_7RG1"
      },
      "execution_count": null,
      "outputs": []
    },
    {
      "cell_type": "markdown",
      "source": [
        "## [2] String"
      ],
      "metadata": {
        "id": "_gzEHbvloSqS"
      }
    },
    {
      "cell_type": "code",
      "source": [
        "# An example of a string\n",
        "name = \"Mary\"\n",
        "print(f\"Hi, {name}!\")"
      ],
      "metadata": {
        "id": "xMi4lfEXnYk8"
      },
      "execution_count": null,
      "outputs": []
    },
    {
      "cell_type": "code",
      "source": [
        "# Long text\n",
        "mytext = \"An API, or Application Programming Interface, is a set of rules, protocols, and tools for building software and applications. It specifies how different software components should interact and communicate with each other. Essentially, an API is a way for different software applications to talk to one another.\""
      ],
      "metadata": {
        "id": "geZg1mVLAAFN"
      },
      "execution_count": null,
      "outputs": []
    },
    {
      "cell_type": "markdown",
      "source": [
        "+ len(): length of the data"
      ],
      "metadata": {
        "id": "ohRfXVq5Ad2q"
      }
    },
    {
      "cell_type": "code",
      "source": [
        "# Long text (More readable)\n",
        "\n",
        "mytext = \"\"\"\n",
        "An API, or Application Programming Interface, is a set of rules, protocols,\n",
        "and tools for building software and applications.\n",
        "It specifies how different software components should interact and communicate with each other.\n",
        "Essentially, an API is a way for different software applications to talk to one another.\n",
        "\"\"\"\n",
        "\n",
        "len(mytext)"
      ],
      "metadata": {
        "id": "51HrTLk_nfKz"
      },
      "execution_count": null,
      "outputs": []
    },
    {
      "cell_type": "markdown",
      "source": [
        "+ variable.split(): split string by space"
      ],
      "metadata": {
        "id": "WUFfakKUTIiV"
      }
    },
    {
      "cell_type": "code",
      "source": [
        "words = mytext.split() #.split() splits strings by space (default)\n",
        "\n",
        "print(\"Number of words: \",len(words))"
      ],
      "metadata": {
        "id": "W78Tn-phAxlp"
      },
      "execution_count": null,
      "outputs": []
    },
    {
      "cell_type": "code",
      "source": [
        "sents = mytext.split(\".\")\n",
        "print(\"Number of sentences: \",len(sents))"
      ],
      "metadata": {
        "id": "LhsPV-lyHRiJ"
      },
      "execution_count": null,
      "outputs": []
    },
    {
      "cell_type": "markdown",
      "source": [
        "### For a given text, provide number of characters, words, and sentences"
      ],
      "metadata": {
        "id": "vAGaRkeTA6Ov"
      }
    },
    {
      "cell_type": "markdown",
      "source": [
        "+ text sample from [online](https://read.gov/aesop/005.html)"
      ],
      "metadata": {
        "id": "qj7yG5EpBcnx"
      }
    },
    {
      "cell_type": "code",
      "source": [
        "text = input(\"Paste your text here: \")\n",
        "words = text.split()\n",
        "sents = text.split(\".\")\n",
        "\n",
        "print(\"1) N of string: \", len(text))\n",
        "print(\"2) N of words: \", len(words))\n",
        "print(\"3) N of sentences: \", len(sents))"
      ],
      "metadata": {
        "id": "uZlHtCCtBCng"
      },
      "execution_count": null,
      "outputs": []
    },
    {
      "cell_type": "markdown",
      "source": [
        "## [3] List\n",
        "\n",
        "+ An ordered, mutable (changeable) collection of items. Lists are defined with square brackets, e.g., [1, 2, 3] or ['apple', 'banana', 'cherry']."
      ],
      "metadata": {
        "id": "_9Bsz0yVoN4J"
      }
    },
    {
      "cell_type": "code",
      "source": [
        "# An example of a list\n",
        "favorite_books = [\"To Kill a Mockingbird\", \"1984\", \"The Great Gatsby\"]\n",
        "print(\"Favorite Books:\", favorite_books)\n",
        "\n",
        "# Accessing a list\n",
        "print(\"First book: \", favorite_books[0])"
      ],
      "metadata": {
        "id": "GqOU53NUn72-"
      },
      "execution_count": null,
      "outputs": []
    },
    {
      "cell_type": "markdown",
      "source": [
        "+ Creating a list"
      ],
      "metadata": {
        "id": "Mj02RjCjpEyQ"
      }
    },
    {
      "cell_type": "code",
      "source": [
        "# Creating a list with some elements\n",
        "fruits = [\"apple\", \"banana\", \"cherry\"]\n",
        "print(fruits)\n",
        "\n",
        "fruits.append(\"melon\")\n",
        "print(fruits)"
      ],
      "metadata": {
        "id": "lsimZTSWo3GO"
      },
      "execution_count": null,
      "outputs": []
    },
    {
      "cell_type": "markdown",
      "source": [
        "+ Accessing list elements"
      ],
      "metadata": {
        "id": "aXv4Urj_pGoL"
      }
    },
    {
      "cell_type": "code",
      "source": [
        "# Accessing the first element\n",
        "fruits[1]"
      ],
      "metadata": {
        "id": "wnGA0faUpDVx"
      },
      "execution_count": null,
      "outputs": []
    },
    {
      "cell_type": "markdown",
      "source": [
        "+ Removing elements from a list"
      ],
      "metadata": {
        "id": "Nou9hOEhpN0E"
      }
    },
    {
      "cell_type": "code",
      "source": [
        "# Removing an element by value\n",
        "# Creating a list with some elements\n",
        "fruits = [\"apple\", \"banana\", \"cherry\"]\n",
        "\n",
        "fruits.remove(\"banana\")\n",
        "print(fruits)\n",
        "# Removing an element by index\n",
        "del fruits[0]  # Removes the first element\n",
        "\n",
        "print(fruits)"
      ],
      "metadata": {
        "id": "eM3pZoo3pR_O"
      },
      "execution_count": null,
      "outputs": []
    },
    {
      "cell_type": "markdown",
      "source": [
        "+ Sorting a list: sorted(list)"
      ],
      "metadata": {
        "id": "eAF_rYZ1pehF"
      }
    },
    {
      "cell_type": "code",
      "source": [
        "# Sorting a list without modifying the original list\n",
        "fruits = [\"cherry\", \"mango\", \"orange\",\"apple\", \"banana\"]\n",
        "print(\"Original: \", fruits)\n",
        "\n",
        "sorted_fruits = sorted(fruits)\n",
        "print(\"Sorted: \", sorted_fruits)"
      ],
      "metadata": {
        "id": "Ac35l6m2reSs"
      },
      "execution_count": null,
      "outputs": []
    },
    {
      "cell_type": "code",
      "source": [
        "sorted(fruits, reverse=True) # decreasing order"
      ],
      "metadata": {
        "id": "G4I2bkL_kGW8"
      },
      "execution_count": null,
      "outputs": []
    },
    {
      "cell_type": "markdown",
      "source": [
        "## [4] Dictionary\n",
        "\n",
        "+ {key1:value1, key2:value2, ...}\n",
        "+ A dictionary in Python is a collection of **key-value** pairs where each key is unique and associated with a value. Dictionaries are mutable, meaning you can change, add, or remove items after the dictionary has been created. Here are some examples to explain the dictionary data type:"
      ],
      "metadata": {
        "id": "eipUvDN6tdOG"
      }
    },
    {
      "cell_type": "markdown",
      "source": [
        "+ 1. Creating a Dictionary"
      ],
      "metadata": {
        "id": "pu_qMveivLUo"
      }
    },
    {
      "cell_type": "code",
      "source": [
        "# Dictionary with some data\n",
        "person = {\"name\": \"John\", \"age\": 30, \"city\": \"New York\"}"
      ],
      "metadata": {
        "id": "Y_X66Ee0vOBE"
      },
      "execution_count": null,
      "outputs": []
    },
    {
      "cell_type": "markdown",
      "source": [
        "+ 2. Accessing Dictionary Values"
      ],
      "metadata": {
        "id": "SRUT3SpHvRbM"
      }
    },
    {
      "cell_type": "code",
      "source": [
        "# Accessing value by key\n",
        "name = person[\"name\"]  # \"John\"\n",
        "print(name)"
      ],
      "metadata": {
        "id": "YSf9yZ1WvXWD"
      },
      "execution_count": null,
      "outputs": []
    },
    {
      "cell_type": "markdown",
      "source": [
        "## [5] Tuple\n",
        "\n",
        "+ Tuples in Python are similar to lists, but they are **immutable**, meaning that once a tuple is created, its elements cannot be changed, added, or removed. Tuples are often used for **data that should not change throughout the execution of a program**. They can store any type of data and can be nested, just like lists."
      ],
      "metadata": {
        "id": "2KUdLfwbtfGt"
      }
    },
    {
      "cell_type": "markdown",
      "source": [
        "+ Creating a tuple"
      ],
      "metadata": {
        "id": "uKqfTaImxHzf"
      }
    },
    {
      "cell_type": "code",
      "source": [
        "# Tuple with one element (singleton)\n",
        "mytuple = (\"Mon\",\"Tue\",\"Wed\",\"Thur\",\"Fri\",\"Sat\",\"Sun\")\n",
        "\n",
        "mytuple[0]"
      ],
      "metadata": {
        "id": "wryhHduGxJHC"
      },
      "execution_count": null,
      "outputs": []
    },
    {
      "cell_type": "markdown",
      "source": [
        "## Other data types\n",
        "\n",
        "+ Boolean: Represents truth values. The two boolean values are **True** and **False**.\n",
        "+ Set: An unordered collection of unique items.\n",
        "+ NoneType: A special type representing the absence of a value or a null value."
      ],
      "metadata": {
        "id": "ptMxAJmOxrTU"
      }
    },
    {
      "cell_type": "code",
      "source": [
        "# Boolean: True or False\n",
        "\n",
        "is_night = input(\"Is it night now? Answer True or False\")\n",
        "\n",
        "# Check if it's night\n",
        "if is_night:\n",
        "    print(\"Okay, it's getting dark. Let's turn on the light.\")\n",
        "else:\n",
        "    print(\"Okay, it's still bright. Let's keep the light off.\")\n",
        "\n"
      ],
      "metadata": {
        "id": "a-kGq6JMx8n9"
      },
      "execution_count": null,
      "outputs": []
    },
    {
      "cell_type": "markdown",
      "source": [
        "# Note: '+' operation with numbers vs. string"
      ],
      "metadata": {
        "id": "47qcWxevKGLf"
      }
    },
    {
      "cell_type": "code",
      "source": [
        "data = input()         # Try type 3.0\n",
        "data1 = \"ver\" + data   # data is string (datatype); string + string (concatenation)\n",
        "print(data1)"
      ],
      "metadata": {
        "id": "4FL4HKgKKM7n"
      },
      "execution_count": null,
      "outputs": []
    },
    {
      "cell_type": "code",
      "source": [
        "data = input()     # Try type 3\n",
        "data1 = int(data)   # Change data type into 'integer'\n",
        "print(data1+3)"
      ],
      "metadata": {
        "id": "17A7LA9CKchC"
      },
      "execution_count": null,
      "outputs": []
    },
    {
      "cell_type": "code",
      "source": [
        "data = input()     # Try type 3.0\n",
        "data1 = float(data)   # Change data type into 'integer'\n",
        "print(data1+3)"
      ],
      "metadata": {
        "id": "WoA5ArOFLEgr"
      },
      "execution_count": null,
      "outputs": []
    },
    {
      "cell_type": "markdown",
      "source": [
        "---\n",
        "The end"
      ],
      "metadata": {
        "id": "8Hd-zFhmk92_"
      }
    }
  ]
}