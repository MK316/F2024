{
  "nbformat": 4,
  "nbformat_minor": 0,
  "metadata": {
    "colab": {
      "private_outputs": true,
      "provenance": [],
      "authorship_tag": "ABX9TyNBpT4X9JpHf3VRderNUtCB",
      "include_colab_link": true
    },
    "kernelspec": {
      "name": "python3",
      "display_name": "Python 3"
    },
    "language_info": {
      "name": "python"
    }
  },
  "cells": [
    {
      "cell_type": "markdown",
      "metadata": {
        "id": "view-in-github",
        "colab_type": "text"
      },
      "source": [
        "<a href=\"https://colab.research.google.com/github/MK316/F2024/blob/main/Multimedia/multimodality.ipynb\" target=\"_parent\"><img src=\"https://colab.research.google.com/assets/colab-badge.svg\" alt=\"Open In Colab\"/></a>"
      ]
    },
    {
      "cell_type": "markdown",
      "source": [
        "# 💦 Multi-modality\n",
        "\n",
        "|Input ➡️ |Codes| ➡️ Output|\n",
        "|--|--|--|\n",
        "|Text|  | Text|\n",
        "|Audio||Audio|\n",
        "|Image||Image|\n",
        "|Video||Video|"
      ],
      "metadata": {
        "id": "YcnboBYksXqf"
      }
    },
    {
      "cell_type": "markdown",
      "source": [
        "# [1] Text-to-Text"
      ],
      "metadata": {
        "id": "rfzJcbEOukO_"
      }
    },
    {
      "cell_type": "code",
      "source": [
        "%%capture\n",
        "!pip install transformers\n",
        "!pip install gradio"
      ],
      "metadata": {
        "id": "ntGyMR5Iv6FP"
      },
      "execution_count": null,
      "outputs": []
    },
    {
      "cell_type": "markdown",
      "source": [
        "[sample texts from Aesop fables](https://read.gov/aesop/021.html)"
      ],
      "metadata": {
        "id": "V44u2wgw97Xv"
      }
    },
    {
      "cell_type": "code",
      "source": [
        "input_text = \"\"\"\n",
        "There was once a little Kid whose growing horns made him think he was a grown-up Billy Goat and able to take care of himself. So one evening when the flock started home from the pasture and his mother called, the Kid paid no heed and kept right on nibbling the tender grass. A little later when he lifted his head, the flock was gone.\n",
        "\n",
        "He was all alone. The sun was sinking. Long shadows came creeping over the ground. A chilly little wind came creeping with them making scary noises in the grass. The Kid shivered as he thought of the terrible Wolf. Then he started wildly over the field, bleating for his mother. But not half-way, near a clump of trees, there was the Wolf!\n",
        "\n",
        "The Kid knew there was little hope for him.\n",
        "\n",
        "\"Please, Mr. Wolf,\" he said trembling, \"I know you are going to eat me. But first please pipe me a tune, for I want to dance and be merry as long as I can.\"\n",
        "\n",
        "The Wolf liked the idea of a little music before eating, so he struck up a merry tune and the Kid leaped and frisked gaily.\n",
        "\n",
        "Meanwhile, the flock was moving slowly homeward. In the still evening air the Wolf's piping carried far. The Shepherd Dogs pricked up their ears. They recognized the song the Wolf sings before a feast, and in a moment they were racing back to the pasture. The Wolf's song ended suddenly, and as he ran, with the Dogs at his heels, he called himself a fool for turning piper to please a Kid, when he should have stuck to his butcher's trade.\n",
        "\"\"\""
      ],
      "metadata": {
        "id": "GWitIWKfz2Qk"
      },
      "execution_count": null,
      "outputs": []
    },
    {
      "cell_type": "code",
      "source": [
        "#@markdown Summarize app using {transformers}\n",
        "from transformers import pipeline\n",
        "\n",
        "# Explicitly specify the model\n",
        "model_name = \"sshleifer/distilbart-cnn-12-6\"\n",
        "summarizer = pipeline(\"summarization\", model=model_name)\n",
        "\n",
        "def generate_summary(text):\n",
        "    summary_text = summarizer(text, max_length=130, min_length=30, do_sample=False)\n",
        "    return summary_text[0]['summary_text']\n",
        "\n",
        "# Rest of your Gradio app setup remains the same\n",
        "\n",
        "\n",
        "# Example usage\n",
        "# input_text = \"Your long input text goes here.\"\n",
        "print(generate_summary(input_text))\n"
      ],
      "metadata": {
        "cellView": "form",
        "id": "UEzIUUH7z0gT"
      },
      "execution_count": null,
      "outputs": []
    },
    {
      "cell_type": "code",
      "source": [
        "#@markdown Gradio link\n",
        "import gradio as gr\n",
        "from transformers import pipeline\n",
        "\n",
        "# Initialize the summarization pipeline\n",
        "model_name = \"sshleifer/distilbart-cnn-12-6\"\n",
        "summarizer = pipeline(\"summarization\", model=model_name)\n",
        "\n",
        "def generate_summary(text):\n",
        "    summary_text = summarizer(text, max_length=130, min_length=30, do_sample=False)\n",
        "    return summary_text[0]['summary_text']\n",
        "\n",
        "# Create a Gradio interface with custom labels\n",
        "interface = gr.Interface(fn=generate_summary,\n",
        "                         inputs=gr.Textbox(lines=10,\n",
        "                                                  placeholder=\"Enter Text Here...\",\n",
        "                                                  label=\"Input Text for Summarization\"),\n",
        "                         outputs=gr.Textbox(label=\"Summarized Text\"),\n",
        "                         title=\"Text Summarization\",\n",
        "                         description=\"Enter a block of text to generate a concise summary using a Transformers model\")\n",
        "\n",
        "# Launch the interface\n",
        "interface.launch()\n"
      ],
      "metadata": {
        "cellView": "form",
        "id": "lriTkMn0xora"
      },
      "execution_count": null,
      "outputs": []
    },
    {
      "cell_type": "markdown",
      "source": [
        "# [2] Text-to-Speech"
      ],
      "metadata": {
        "id": "aIsTCj1p-Dbb"
      }
    },
    {
      "cell_type": "code",
      "source": [
        "%%capture\n",
        "!pip install gtts\n",
        "!pip install IPython"
      ],
      "metadata": {
        "id": "kdZ0fMfh-ITP"
      },
      "execution_count": null,
      "outputs": []
    },
    {
      "cell_type": "code",
      "source": [
        "#@markdown TTS with user input\n",
        "\n",
        "from gtts import gTTS\n",
        "from IPython.display import Audio, display\n",
        "import os\n",
        "\n",
        "def generate_audio(text, lang):\n",
        "    tts = gTTS(text=text, lang=lang)\n",
        "    filename = 'temp_audio.mp3'\n",
        "    tts.save(filename)\n",
        "    display(Audio(filename, autoplay=True))\n",
        "    os.remove(filename)\n",
        "\n",
        "# Example Usage\n",
        "mytext = input(\"Write text here: \")\n",
        "generate_audio(mytext, \"en\")\n"
      ],
      "metadata": {
        "cellView": "form",
        "id": "zCTpOelfAVUQ"
      },
      "execution_count": null,
      "outputs": []
    },
    {
      "cell_type": "code",
      "source": [
        "#@markdown TTS English (American vs. British)\n",
        "# !pip install gradio\n",
        "# !pip install gTTS\n",
        "\n",
        "import gradio as gr\n",
        "from gtts import gTTS\n",
        "import os\n",
        "\n",
        "def generate_audio(text, dialect):\n",
        "    tts = gTTS(text=text, lang='en', tld=dialect)\n",
        "    filename = 'temp_audio.mp3'\n",
        "    tts.save(filename)\n",
        "    return filename\n",
        "\n",
        "# Define the dialect options for English\n",
        "dialect_options = [\"us\", \"co.uk\"]\n",
        "\n",
        "# Create the Gradio interface\n",
        "iface = gr.Interface(\n",
        "    fn=generate_audio,\n",
        "    inputs=[\n",
        "        gr.Textbox(lines=2, placeholder=\"Enter your text here...\"),\n",
        "        gr.Radio(choices=dialect_options, label=\"Choose English Dialect\")\n",
        "    ],\n",
        "    outputs=gr.Audio(label=\"Generated Audio\"),\n",
        "    title=\"English Text-to-Speech\",\n",
        "    description=\"Enter text and select an English dialect to generate speech.\"\n",
        ")\n",
        "\n",
        "iface.launch()\n"
      ],
      "metadata": {
        "cellView": "form",
        "id": "rO1ewvVEFTjQ"
      },
      "execution_count": null,
      "outputs": []
    },
    {
      "cell_type": "markdown",
      "source": [
        "# [3] Speech-to-Text (Dictation)\n",
        "\n",
        "[alternative link: speechnotes.co](https://speechnotes.co)\n",
        "\n",
        "Coding later"
      ],
      "metadata": {
        "id": "nbjNoJmn-Hyb"
      }
    },
    {
      "cell_type": "markdown",
      "source": [
        "# [4] Speech-to-Text (Transcribing)\n",
        "\n",
        "[alternative link: speechnotes.co](https://speechnotes.co)\n",
        "\n",
        "Coding later"
      ],
      "metadata": {
        "id": "RsI6iVI7KoTf"
      }
    },
    {
      "cell_type": "markdown",
      "source": [
        "# [5] Text-to-Image\n",
        "\n",
        "+ DallE\n",
        "+ Midjourney\n"
      ],
      "metadata": {
        "id": "ePJFBX1KK8Fj"
      }
    },
    {
      "cell_type": "code",
      "source": [
        "%%capture\n",
        "!pip install IPython"
      ],
      "metadata": {
        "id": "SPAlBL79N40j"
      },
      "execution_count": null,
      "outputs": []
    },
    {
      "cell_type": "code",
      "source": [
        "#@markdown Introduction Slides\n",
        "from IPython.display import display\n",
        "import ipywidgets as widgets\n",
        "import requests\n",
        "\n",
        "def on_button_click(button):\n",
        "    sn = int(button.description) - 1\n",
        "    image.value = requests.get(urls[sn]).content\n",
        "\n",
        "urls = [\"https://github.com/MK316/Spring2024/raw/main/img/AI-image01.png\",\n",
        "        'https://github.com/MK316/Spring2024/raw/main/img/AI-image02.png',\n",
        "        'https://github.com/MK316/Spring2024/raw/main/img/AI-image03.png',\n",
        "        'https://github.com/MK316/Spring2024/raw/main/img/AI-image04.png',\n",
        "        'https://github.com/MK316/Spring2024/raw/main/img/AI-image05.png',\n",
        "        'https://github.com/MK316/Spring2024/raw/main/img/AI-image06.png',\n",
        "        'https://github.com/MK316/Spring2024/raw/main/img/AI-image07.png'\n",
        "      ]\n",
        "\n",
        "button_layout = widgets.Layout(width='50px', height='30px')\n",
        "\n",
        "buttons = [widgets.Button(description=str(i), layout=button_layout) for i in range(1,8)]\n",
        "for button in buttons:\n",
        "    button.on_click(on_button_click)\n",
        "\n",
        "image = widgets.Image(value=requests.get(urls[0]).content, width=\"800\", height=\"600\")\n",
        "\n",
        "display(widgets.HBox([image, widgets.VBox(buttons)]))"
      ],
      "metadata": {
        "cellView": "form",
        "id": "Iseh5VdBLRo4"
      },
      "execution_count": null,
      "outputs": []
    },
    {
      "cell_type": "markdown",
      "source": [
        "---\n",
        "The END"
      ],
      "metadata": {
        "id": "oEZrWFVxO8P0"
      }
    }
  ]
}