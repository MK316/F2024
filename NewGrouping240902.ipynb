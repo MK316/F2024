{
  "nbformat": 4,
  "nbformat_minor": 0,
  "metadata": {
    "colab": {
      "private_outputs": true,
      "provenance": [],
      "authorship_tag": "ABX9TyNruMi6MVtAXLpsGhyrNdkP",
      "include_colab_link": true
    },
    "kernelspec": {
      "name": "python3",
      "display_name": "Python 3"
    },
    "language_info": {
      "name": "python"
    }
  },
  "cells": [
    {
      "cell_type": "markdown",
      "metadata": {
        "id": "view-in-github",
        "colab_type": "text"
      },
      "source": [
        "<a href=\"https://colab.research.google.com/github/MK316/F2024/blob/main/NewGrouping240902.ipynb\" target=\"_parent\"><img src=\"https://colab.research.google.com/assets/colab-badge.svg\" alt=\"Open In Colab\"/></a>"
      ]
    },
    {
      "cell_type": "markdown",
      "source": [
        "# New Grouping  (24. 09. 02)\n",
        "\n",
        "+ Use excel file (.xlsx)\n",
        "+ Grouping of 4 members\n",
        "+ If less than 4: +1(make one 5 members), +2 (make two groups with 3 members)"
      ],
      "metadata": {
        "id": "54ZNROxMt5_s"
      }
    },
    {
      "cell_type": "code",
      "source": [
        "import pandas as pd\n",
        "import numpy as np\n",
        "\n",
        "# Step 1: Load the Excel file into a DataFrame\n",
        "# Replace 'your_file.xlsx' with the actual file name\n",
        "df_names = pd.read_excel('grouping.xlsx')\n",
        "\n",
        "# Step 2: Extract names from the DataFrame\n",
        "names = df_names['Name'].tolist()\n",
        "\n",
        "# Shuffle names randomly\n",
        "np.random.shuffle(names)\n",
        "\n",
        "# Step 3: Group these names into groups of 4\n",
        "n = 4  # size of each group\n",
        "groups = [names[i:i + n] for i in range(0, len(names), n)]\n",
        "\n",
        "# Handle the grouping based on the last group size\n",
        "last_group_size = len(groups[-1])\n",
        "if last_group_size == 1:\n",
        "    # Append the last name to the previous group\n",
        "    groups[-2].extend(groups[-1])\n",
        "    groups.pop(-1)\n",
        "elif last_group_size == 2:\n",
        "    # Randomly pick one from the previous group and make a new group\n",
        "    selected = np.random.choice(groups[-2], 1)\n",
        "    groups[-2] = [name for name in groups[-2] if name not in selected]\n",
        "    groups[-1].extend(selected)\n",
        "elif last_group_size == 3:\n",
        "    # Leave it as is, nothing needs to be done\n",
        "    pass\n",
        "\n",
        "# Step 4: Assign group names and shuffle group order randomly\n",
        "group_names = [f'G{i+1}' for i in range(len(groups))]\n",
        "np.random.shuffle(group_names)  # Shuffle the group names for random order\n",
        "\n",
        "# Expand the members into separate rows under each group column\n",
        "# Reorder groups according to shuffled group names\n",
        "expanded_df = pd.DataFrame({name: groups[i] + [None] * (n - len(groups[i])) for i, name in enumerate(group_names)})\n",
        "\n",
        "# Step 5: Save the DataFrame to a CSV file\n",
        "expanded_df.to_csv('grouptable1.csv', index=False)\n",
        "print(\"DataFrame saved as 'grouptable.csv'\")\n",
        "print(expanded_df)\n"
      ],
      "metadata": {
        "id": "T-raRsqst8cl"
      },
      "execution_count": null,
      "outputs": []
    },
    {
      "cell_type": "markdown",
      "source": [
        "# When there is a fixed group"
      ],
      "metadata": {
        "id": "2Yue5W7tuf1R"
      }
    },
    {
      "cell_type": "code",
      "source": [
        "fixed_groups = {\n",
        "    'G1': ['Alice', 'Bob', 'Sarah']  # Example of fixed group\n",
        "}"
      ],
      "metadata": {
        "id": "Jq--XimcvPLd"
      },
      "execution_count": null,
      "outputs": []
    },
    {
      "cell_type": "code",
      "source": [
        "import pandas as pd\n",
        "import numpy as np\n",
        "\n",
        "# Step 1: Load the Excel file into a DataFrame\n",
        "# Assume the file is uploaded to Colab and replace 'your_file.xlsx' with the actual file name\n",
        "df_names = pd.read_excel('grouping.xlsx')\n",
        "\n",
        "# Step 2: Specify fixed groups with predefined members\n",
        "# fixed_groups = {\n",
        "#     'G1': ['Alice', 'Bob', 'Charlie']  # Example of fixed group\n",
        "# }\n",
        "\n",
        "# Extract names and filter out those that are already in fixed groups\n",
        "all_names = df_names['Name'].tolist()\n",
        "remaining_names = [name for name in all_names if name not in sum(fixed_groups.values(), [])]\n",
        "\n",
        "# Shuffle remaining names randomly\n",
        "np.random.shuffle(remaining_names)\n",
        "\n",
        "# Step 3: Group the remaining names into groups of 4, starting with group G2 since G1 is fixed\n",
        "n = 4  # size of each group\n",
        "dynamic_groups = [remaining_names[i:i + n] for i in range(0, len(remaining_names), n)]\n",
        "\n",
        "# Handle the grouping based on the last group size\n",
        "last_group_size = len(dynamic_groups[-1])\n",
        "if last_group_size == 1:\n",
        "    # Append the last name to the previous group\n",
        "    dynamic_groups[-2].extend(dynamic_groups[-1])\n",
        "    dynamic_groups.pop(-1)\n",
        "elif last_group_size == 2:\n",
        "    # Randomly pick one from the previous group and make a new group\n",
        "    selected = np.random.choice(dynamic_groups[-2], 1)\n",
        "    dynamic_groups[-2] = [name for name in dynamic_groups[-2] if name not in selected]\n",
        "    dynamic_groups[-1].extend(selected)\n",
        "elif last_group_size == 3:\n",
        "    # Leave it as is, nothing needs to be done\n",
        "    pass\n",
        "\n",
        "# Step 4: Create full list of groups including fixed and dynamic groups\n",
        "groups = {**fixed_groups, **{f'G{i+2}': dynamic_groups[i] for i in range(len(dynamic_groups))}}\n",
        "group_names = list(groups.keys())\n",
        "\n",
        "# Expand the members into separate rows under each group column\n",
        "expanded_df = pd.DataFrame({name: groups[name] + [None] * (n - len(groups[name])) for name in group_names})\n",
        "\n",
        "# Step 5: Save the DataFrame to a CSV file\n",
        "# expanded_df.to_csv('grouptable2.csv', index=False)\n",
        "# print(\"DataFrame saved as 'grouptable.csv'\")\n",
        "# print(expanded_df)\n",
        "\n",
        "# Step 5: Save the DataFrame to an Excel file\n",
        "expanded_df.to_excel('grouptable2.xlsx', index=False)\n",
        "print(\"DataFrame saved as 'grouptable2.xlsx'\")\n",
        "print(expanded_df)"
      ],
      "metadata": {
        "id": "wLWHhdAVu9iT"
      },
      "execution_count": null,
      "outputs": []
    }
  ]
}