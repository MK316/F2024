{
  "nbformat": 4,
  "nbformat_minor": 0,
  "metadata": {
    "colab": {
      "private_outputs": true,
      "provenance": [],
      "authorship_tag": "ABX9TyNCVB/Q6j6LTJpMjb68dPSC",
      "include_colab_link": true
    },
    "kernelspec": {
      "name": "python3",
      "display_name": "Python 3"
    },
    "language_info": {
      "name": "python"
    }
  },
  "cells": [
    {
      "cell_type": "markdown",
      "metadata": {
        "id": "view-in-github",
        "colab_type": "text"
      },
      "source": [
        "<a href=\"https://colab.research.google.com/github/MK316/F2024/blob/main/Phonology/Phonology_Ch01.ipynb\" target=\"_parent\"><img src=\"https://colab.research.google.com/assets/colab-badge.svg\" alt=\"Open In Colab\"/></a>"
      ]
    },
    {
      "cell_type": "markdown",
      "source": [
        "# Chapter 1. Phonetics (Review)"
      ],
      "metadata": {
        "id": "_b7UBSLwyx8X"
      }
    },
    {
      "cell_type": "markdown",
      "source": [
        "## Slides (45)\n",
        "Also consider:\n",
        "+ \"Ch01.S10a.mp3\",\n",
        "+ \"Ch01.S10b.mp3\",\n",
        "+ \"Ch01.S12a.mp3\",\n",
        "+ \"Ch01.S12b.mp3\",\n",
        "+ \"Ch01.S13.mp3\",\n",
        "+ \"Ch01.S19.mp3\",\n",
        "+ \"Ch01.S24.mp3\""
      ],
      "metadata": {
        "id": "p6_G1u5ey10l"
      }
    },
    {
      "cell_type": "code",
      "source": [
        "import ipywidgets as widgets\n",
        "from IPython.display import display, clear_output, Image\n",
        "import requests\n",
        "\n",
        "# Use a different variable name instead of 'range'\n",
        "range_selection = \"16~31\"  # @param = [\"1~16\", \"16~31\", \"31~46\"]\n",
        "\n",
        "# Split the range_selection string to get start and end indices\n",
        "n = range_selection.split(\"~\")\n",
        "start = int(n[0])-1\n",
        "end = int(n[1])-1\n",
        "import ipywidgets as widgets\n",
        "from IPython.display import display, clear_output, Image\n",
        "import requests\n",
        "\n",
        "# Base URL for images\n",
        "base_url = \"https://raw.githubusercontent.com/MK316/F2024/main/Phonology/Ch01/CH01.{}.png\"\n",
        "\n",
        "# Total number of images\n",
        "total_images = 45\n",
        "\n",
        "# Current image index\n",
        "current_index = 1\n",
        "\n",
        "def show_image(index):\n",
        "    global current_index\n",
        "    current_index = index\n",
        "    if current_index < 1:\n",
        "        current_index = 1\n",
        "    elif current_index > total_images:\n",
        "        current_index = total_images\n",
        "\n",
        "    # Construct the image URL\n",
        "    img_url = base_url.format(str(current_index).zfill(3))\n",
        "\n",
        "    # Get the image\n",
        "    response = requests.get(img_url)\n",
        "\n",
        "    # Display the image\n",
        "    clear_output(wait=True)\n",
        "    image_widget.value = response.content\n",
        "    display(widgets.HBox([image_widget, buttons_box]))\n",
        "    print(f\"Displaying image {current_index}\")\n",
        "\n",
        "def create_button(index):\n",
        "    button = widgets.Button(description=str(index))\n",
        "    button.on_click(lambda b: show_image(index))\n",
        "    return button\n",
        "\n",
        "# Image widget initialization\n",
        "image_widget = widgets.Image(format='png', width=800, height=600)\n",
        "\n",
        "# Create a list of buttons for each image\n",
        "buttons = [create_button(i) for i in range(1, total_images + 1)]\n",
        "\n",
        "# Organize buttons in a VBox for vertical stacking\n",
        "buttons_box = widgets.VBox(buttons[start:end] + [widgets.Button(description=\"...\")])  # Limit to first 15 with ellipsis for space\n",
        "\n",
        "# Initial image display\n",
        "show_image(current_index)\n"
      ],
      "metadata": {
        "cellView": "form",
        "id": "AlD8p-XP2-XU"
      },
      "execution_count": null,
      "outputs": []
    },
    {
      "cell_type": "markdown",
      "source": [
        "# Slide reading\n",
        "\n",
        "Slide numbers 10, 12, 13, 19, 24\n",
        "\n"
      ],
      "metadata": {
        "id": "j_E2F6vl4ka8"
      }
    },
    {
      "cell_type": "code",
      "source": [
        "#@markdown Slide audio to play\n",
        "import IPython.display as ipd\n",
        "import requests\n",
        "\n",
        "# List of MP3 file names\n",
        "file_names = [\n",
        "    \"Ch01.S10a.mp3\",\n",
        "    \"Ch01.S10b.mp3\",\n",
        "    \"Ch01.S12a.mp3\",\n",
        "    \"Ch01.S12b.mp3\",\n",
        "    \"Ch01.S13.mp3\",\n",
        "    \"Ch01.S19.mp3\",\n",
        "    \"Ch01.S24.mp3\"\n",
        "]\n",
        "\n",
        "# Base URL where the files are stored\n",
        "base_url = \"https://raw.githubusercontent.com/MK316/F2024/main/Phonology/Ch01/\"\n",
        "\n",
        "# Function to play an MP3 file from a URL\n",
        "def play_mp3(file_name):\n",
        "    # Construct the full URL to the MP3 file\n",
        "    file_url = base_url + file_name\n",
        "    #print(f\"Attempting to retrieve: {file_url}\")  # Debug: print the URL being accessed\n",
        "\n",
        "    # Get the MP3 file content\n",
        "    response = requests.get(file_url)\n",
        "\n",
        "    # Check the status code of the response\n",
        "    if response.status_code == 200:\n",
        "        #print(f\"Successfully retrieved {file_name}\")\n",
        "        # Return both the file name and the audio object\n",
        "        return (file_name, ipd.Audio(response.content))\n",
        "    else:\n",
        "        #print(f\"Failed to retrieve {file_name} - Status Code: {response.status_code}\")\n",
        "        return None\n",
        "\n",
        "# Retrieve and prepare audio files with their names\n",
        "audio_players = [play_mp3(name) for name in file_names]\n",
        "\n",
        "# Loop through each tuple (file_name, player) and display player with the file name\n",
        "for item in audio_players:\n",
        "    if item is not None:\n",
        "        file_name, player = item\n",
        "        print(f\"Playing {file_name}:\")  # Print file name before the player\n",
        "        ipd.display(player)\n",
        "\n"
      ],
      "metadata": {
        "cellView": "form",
        "id": "CAQhAX4J9cLP"
      },
      "execution_count": null,
      "outputs": []
    },
    {
      "cell_type": "markdown",
      "source": [
        "## Slide #9 Discrepancies between the spelling and sounds"
      ],
      "metadata": {
        "id": "VD4sMc3UCwAB"
      }
    },
    {
      "cell_type": "code",
      "source": [
        "%%capture\n",
        "!pip install gtts"
      ],
      "metadata": {
        "id": "fCPCjMZ0Czb1"
      },
      "execution_count": null,
      "outputs": []
    },
    {
      "cell_type": "code",
      "source": [
        "#@markdown Discrepancies between the spelling and sounds (practice: 3 sentences)\n",
        "from gtts import gTTS\n",
        "from IPython.display import Audio, display\n",
        "import io\n",
        "\n",
        "# List of texts to convert to speech\n",
        "texts = [\"He weighs eight kilos and walks down eight aisles.\", \"She washes her clothes while her cousin waits.\", \"The choir performed at the psychic show.\"]\n",
        "\n",
        "# Function to play text as speech\n",
        "def text_to_speech(text):\n",
        "    # Create a gTTS object\n",
        "    tts = gTTS(text, lang='en')  # Set the language to English\n",
        "\n",
        "    # Save the speech to a buffer\n",
        "    mp3_fp = io.BytesIO()\n",
        "    tts.write_to_fp(mp3_fp)\n",
        "    mp3_fp.seek(0)\n",
        "\n",
        "    # Display the audio player with the generated speech\n",
        "    display(Audio(mp3_fp.read(), autoplay=False))\n",
        "\n",
        "# Loop through the texts and play each one\n",
        "for text in texts:\n",
        "    print(f\"Playing: {text}\")  # Optionally print the text being played\n",
        "    text_to_speech(text)\n"
      ],
      "metadata": {
        "cellView": "form",
        "id": "TpGNW3jNC3R5"
      },
      "execution_count": null,
      "outputs": []
    },
    {
      "cell_type": "markdown",
      "source": [
        "(1) [hi weɪz eɪt kɪloʊz ænd wɔks daʊn eɪt aɪlz]\n",
        "(2) [ʃi wɑʃɪz hɚ klouðz waɪl hɚ kʌzən weɪts]\n",
        "(3) [ðə kwaɪɚ pɚfɔɹmd æt ðə saɪkɪk ʃoʊ]"
      ],
      "metadata": {
        "id": "5uu2vg_BGtbF"
      }
    },
    {
      "cell_type": "code",
      "source": [
        "#@markdown The answers\n",
        "print(\"(1) 27: [hi weɪz eɪt kɪloʊz ænd wɔks daʊn eɪt aɪlz])\")\n",
        "print(\"(2) 30: [ʃi wɑʃɪz hɚ klouðz waɪl hɚ kʌzən weɪts] \")\n",
        "print(\"(3) 26: [ðə kwaɪɚ pɚfɔɹmd æt ðə saɪkɪk ʃoʊ]\")"
      ],
      "metadata": {
        "cellView": "form",
        "id": "sJj_Eka0EV8d"
      },
      "execution_count": null,
      "outputs": []
    },
    {
      "cell_type": "markdown",
      "source": [],
      "metadata": {
        "id": "aMm7oyG_EU1o"
      }
    }
  ]
}