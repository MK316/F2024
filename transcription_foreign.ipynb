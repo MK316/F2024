{
  "nbformat": 4,
  "nbformat_minor": 0,
  "metadata": {
    "colab": {
      "private_outputs": true,
      "provenance": [],
      "authorship_tag": "ABX9TyOE2wf777B3/p6wMQJ6l+ql",
      "include_colab_link": true
    },
    "kernelspec": {
      "name": "python3",
      "display_name": "Python 3"
    },
    "language_info": {
      "name": "python"
    }
  },
  "cells": [
    {
      "cell_type": "markdown",
      "metadata": {
        "id": "view-in-github",
        "colab_type": "text"
      },
      "source": [
        "<a href=\"https://colab.research.google.com/github/MK316/F2024/blob/main/transcription_foreign.ipynb\" target=\"_parent\"><img src=\"https://colab.research.google.com/assets/colab-badge.svg\" alt=\"Open In Colab\"/></a>"
      ]
    },
    {
      "cell_type": "markdown",
      "source": [
        "# Transcription practice #1 Foreign languages"
      ],
      "metadata": {
        "id": "nJGMdCtahNdk"
      }
    },
    {
      "cell_type": "markdown",
      "source": [
        "## [1] Samples"
      ],
      "metadata": {
        "id": "D-d4eDBjhe1M"
      }
    },
    {
      "cell_type": "code",
      "source": [
        "%%capture\n",
        "!pip install gtts IPython"
      ],
      "metadata": {
        "id": "ZLWwmX9ohlrK"
      },
      "execution_count": null,
      "outputs": []
    },
    {
      "cell_type": "code",
      "execution_count": null,
      "metadata": {
        "cellView": "form",
        "id": "LznMF3wthKBy"
      },
      "outputs": [],
      "source": [
        "#@markdown\n",
        "from gtts import gTTS\n",
        "from IPython.display import Audio\n",
        "\n",
        "# Define the sentences and their languages\n",
        "sentences = {\n",
        "    \"German\": (\"Ich liebe dich\", \"de\"),\n",
        "    \"French\": (\"Je m'appelle Marie\", \"fr\"),\n",
        "    \"Italian\": (\"Mi chiamo Giorgio\", \"it\")\n",
        "}\n",
        "\n",
        "# Function to synthesize text to speech\n",
        "def synthesize_text(text, lang):\n",
        "    tts = gTTS(text=text, lang=lang)\n",
        "    tts.save(f\"{lang}.mp3\")\n",
        "    return f\"{lang}.mp3\"\n",
        "\n",
        "# Generate and play the audio for each sentence\n",
        "for language, (sentence, lang_code) in sentences.items():\n",
        "    audio_file = synthesize_text(sentence, lang_code)\n",
        "    print(lang_code)\n",
        "    display(Audio(audio_file))\n"
      ]
    },
    {
      "cell_type": "code",
      "source": [
        "#@markdown Print the above sentences\n",
        "sentences = {\n",
        "    \"German\": (\"Ich liebe dich\", \"de\"),\n",
        "    \"French\": (\"Je m'appelle Marie\", \"fr\"),\n",
        "    \"Italian\": (\"Mi chiamo Giorgio\", \"it\")\n",
        "}\n",
        "\n",
        "print(sentences[\"German\"])\n",
        "print(sentences[\"French\"])\n",
        "print(sentences[\"Italian\"])"
      ],
      "metadata": {
        "cellView": "form",
        "id": "aztP3VsMhuHv"
      },
      "execution_count": null,
      "outputs": []
    }
  ]
}